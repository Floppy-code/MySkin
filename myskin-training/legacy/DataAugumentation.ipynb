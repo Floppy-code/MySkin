{
 "cells": [
  {
   "cell_type": "code",
   "execution_count": null,
   "id": "b945c554",
   "metadata": {},
   "outputs": [],
   "source": [
    "import os\n",
    "import gc\n",
    "import pickle\n",
    "\n",
    "import numpy as np\n",
    "import pandas as pd\n",
    "import matplotlib.pyplot as plt\n",
    "import imblearn"
   ]
  },
  {
   "cell_type": "code",
   "execution_count": null,
   "id": "b7629dd9",
   "metadata": {},
   "outputs": [],
   "source": [
    "#===== CONSTANTS =====\n",
    "DATA_PATH = './data/loaded.pckl'\n",
    "FEATURE_PATH = './data/features.npy'\n",
    "LABEL_PATH = './data/labels.npy'\n",
    "RESIZE_RES = (200, 200)"
   ]
  },
  {
   "cell_type": "code",
   "execution_count": null,
   "id": "a4282de5",
   "metadata": {},
   "outputs": [],
   "source": [
    "data = pickle.load(open(DATA_PATH, 'rb'))"
   ]
  },
  {
   "cell_type": "code",
   "execution_count": null,
   "id": "ef5141d0",
   "metadata": {},
   "outputs": [],
   "source": [
    "#Dataset is really unbalanced for now\n",
    "\n",
    "dataframe = pd.DataFrame(data)\n",
    "dataframe[1].value_counts()"
   ]
  },
  {
   "cell_type": "code",
   "execution_count": null,
   "id": "e2247eb8",
   "metadata": {
    "scrolled": true
   },
   "outputs": [],
   "source": [
    "from sklearn.preprocessing import LabelEncoder\n",
    "from skimage.transform import resize\n",
    "from skimage.util import crop\n",
    "\n",
    "data_X = []\n",
    "data_y = []\n",
    "\n",
    "for d in data:\n",
    "    cropped = crop(d[0], ((0, 0), (75, 75), (0,0)), copy = False)\n",
    "    resized = resize(cropped, RESIZE_RES, preserve_range=True)\n",
    "    data_X.append(np.array(resized).round(decimals=0))\n",
    "    data_y.append(d[1])\n",
    "    \n",
    "data = None\n",
    "data_X"
   ]
  },
  {
   "cell_type": "markdown",
   "id": "082c441a",
   "metadata": {},
   "source": [
    "### Solutions to this unbalanced dataset\n",
    "1. Undersampling of nv label\n",
    "2. Image augumentation by rotation of bcc, akiec, vasc and df labels\n",
    "3. Adding gausian blur to all labels\n",
    "4. Custom class_weights"
   ]
  },
  {
   "cell_type": "code",
   "execution_count": null,
   "id": "993ef130",
   "metadata": {},
   "outputs": [],
   "source": [
    "#Image augumentation by rotation\n",
    "from skimage.transform import rotate\n",
    "\n",
    "to_rotate = ['bcc', 'akiec', 'vasc', 'df']\n",
    "degrees_of_rotation = [90, 180, 270]\n",
    "\n",
    "original_lenght = len(data_X)\n",
    "for i in range(0, original_lenght):\n",
    "    img = data_X[i]\n",
    "    label = data_y[i]\n",
    "    if label in to_rotate:\n",
    "        for angle in degrees_of_rotation:\n",
    "            data_X.append(rotate(img, angle, resize = False, preserve_range=True))\n",
    "            data_y.append(label)"
   ]
  },
  {
   "cell_type": "code",
   "execution_count": null,
   "id": "cc4b1f6a",
   "metadata": {},
   "outputs": [],
   "source": [
    "dataframe_oversampled = pd.DataFrame(data_y)\n",
    "dataframe_oversampled[0].value_counts()"
   ]
  },
  {
   "cell_type": "code",
   "execution_count": null,
   "id": "4a759bd2",
   "metadata": {},
   "outputs": [],
   "source": [
    "#Image augumentation by adding gaussian blur\n",
    "from skimage.filters import gaussian\n",
    "\n",
    "to_blur_copy = ['akiec', 'mel', 'bkl', 'vasc', 'df']\n",
    "\n",
    "blur_nv = False\n",
    "blur_bcc = False\n",
    "original_lenght = len(data_X)\n",
    "for i in range(0, original_lenght):\n",
    "    img = data_X[i]\n",
    "    label = data_y[i]\n",
    "    if label in to_blur_copy:\n",
    "        data_X.append(gaussian(img, sigma = 10, truncate = 1/5, preserve_range=True))\n",
    "        data_y.append(label)\n",
    "    else:\n",
    "        if (label == 'nv'):\n",
    "            if (blur_nv):\n",
    "                data_X[i] = gaussian(img, sigma = 10, truncate = 1/5, preserve_range=True)\n",
    "            blur_nv = not blur_nv\n",
    "        else:\n",
    "            if (blur_bcc):\n",
    "                data_X[i] = gaussian(img, sigma = 10, truncate = 1/5, preserve_range=True)\n",
    "            blur_bcc = not blur_bcc\n",
    "                "
   ]
  },
  {
   "cell_type": "code",
   "execution_count": null,
   "id": "596852e8",
   "metadata": {},
   "outputs": [],
   "source": [
    "dataframe_oversampled = pd.DataFrame(data_y)\n",
    "dataframe_oversampled[0].value_counts()"
   ]
  },
  {
   "cell_type": "code",
   "execution_count": null,
   "id": "544b2c5c",
   "metadata": {},
   "outputs": [],
   "source": [
    "#Undersampling of nv label\n",
    "import random\n",
    "\n",
    "indexes_to_remove = []\n",
    "while len(indexes_to_remove) < (6705 - 2616):\n",
    "    current = random.randrange(0, len(data_X))\n",
    "    if (data_y[current] == 'nv' and current not in indexes_to_remove):\n",
    "        indexes_to_remove.append(current)\n",
    "        \n",
    "indexes_to_remove.sort(reverse = True)\n",
    "for i in indexes_to_remove:\n",
    "    data_X.pop(i)\n",
    "    data_y.pop(i)"
   ]
  },
  {
   "cell_type": "code",
   "execution_count": null,
   "id": "37cae57f",
   "metadata": {},
   "outputs": [],
   "source": [
    "dataframe_oversampled = pd.DataFrame(data_y)\n",
    "dataframe_oversampled[0].value_counts()"
   ]
  },
  {
   "cell_type": "code",
   "execution_count": null,
   "id": "0aec46ae",
   "metadata": {},
   "outputs": [],
   "source": [
    "plt.imshow(data_X[5000] / 255.0)"
   ]
  },
  {
   "cell_type": "code",
   "execution_count": null,
   "id": "da66a904",
   "metadata": {},
   "outputs": [],
   "source": [
    "#Encode labels and save dataset to disk\n",
    "from sklearn.preprocessing import LabelEncoder\n",
    "\n",
    "le = LabelEncoder()\n",
    "\n",
    "data_X = np.array(data_X)\n",
    "data_y = le.fit_transform(data_y)"
   ]
  },
  {
   "cell_type": "code",
   "execution_count": null,
   "id": "954f4c8b",
   "metadata": {},
   "outputs": [],
   "source": [
    "feature_file = open(FEATURE_PATH, 'wb')\n",
    "label_file = open(LABEL_PATH, 'wb')\n",
    "\n",
    "np.save(feature_file, data_X)\n",
    "np.save(label_file, data_y)\n",
    "\n",
    "feature_file.close()\n",
    "label_file.close()"
   ]
  },
  {
   "cell_type": "code",
   "execution_count": null,
   "id": "2aa552f6",
   "metadata": {},
   "outputs": [],
   "source": [
    "le.classes_"
   ]
  },
  {
   "cell_type": "code",
   "execution_count": null,
   "id": "01b1717d",
   "metadata": {},
   "outputs": [],
   "source": [
    "#Custom class_weights (Will need to be done with every k-fold validation iteration)\n",
    "from sklearn.utils import class_weight\n",
    "\n",
    "class_weights = class_weight.compute_class_weight(class_weight = \"balanced\",\n",
    "                                                    classes = np.unique(data_y),\n",
    "                                                    y = data_y)\n",
    "class_weights.sort()\n",
    "class_weights"
   ]
  },
  {
   "cell_type": "code",
   "execution_count": null,
   "id": "35060467",
   "metadata": {},
   "outputs": [],
   "source": []
  }
 ],
 "metadata": {
  "kernelspec": {
   "display_name": "MySkinTraining",
   "language": "python",
   "name": "myskintraining"
  },
  "language_info": {
   "codemirror_mode": {
    "name": "ipython",
    "version": 3
   },
   "file_extension": ".py",
   "mimetype": "text/x-python",
   "name": "python",
   "nbconvert_exporter": "python",
   "pygments_lexer": "ipython3",
   "version": "3.10.9"
  }
 },
 "nbformat": 4,
 "nbformat_minor": 5
}
