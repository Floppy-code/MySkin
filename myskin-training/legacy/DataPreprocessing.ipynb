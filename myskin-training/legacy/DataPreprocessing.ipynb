{
 "cells": [
  {
   "cell_type": "code",
   "execution_count": 1,
   "id": "fd0f559b",
   "metadata": {},
   "outputs": [],
   "source": [
    "import tensorflow as tf\n",
    "import numpy as np\n",
    "from sys import getsizeof"
   ]
  },
  {
   "cell_type": "code",
   "execution_count": 2,
   "id": "2bfe45a6",
   "metadata": {},
   "outputs": [],
   "source": [
    "#===== CONSTANS =====\n",
    "FEATURE_FILE = './data/features.npy'\n",
    "LABEL_FILE = './data/labels.npy'\n",
    "MODEL_NAME = 'resnet50'\n",
    "PREPROCESSED_FEATURE_FILE = f'./data/{MODEL_NAME}_features.npy'\n",
    "PREPROCESSED_LABEL_FILE = f'./data/{MODEL_NAME}_labels.npy'"
   ]
  },
  {
   "cell_type": "code",
   "execution_count": 3,
   "id": "e08e593b",
   "metadata": {},
   "outputs": [],
   "source": [
    "X = np.load(open(FEATURE_FILE, 'rb'))\n",
    "Y = np.load(open(LABEL_FILE, 'rb'))"
   ]
  },
  {
   "cell_type": "code",
   "execution_count": 4,
   "id": "d3d66f97",
   "metadata": {},
   "outputs": [],
   "source": [
    "from tensorflow.keras.applications.resnet50 import preprocess_input\n",
    "\n",
    "X = preprocess_input(X)\n",
    "Y = Y.astype('float32').reshape((-1,1))\n",
    "\n",
    "x_file = open(PREPROCESSED_FEATURE_FILE, 'wb')\n",
    "y_file = open(PREPROCESSED_LABEL_FILE, 'wb')\n",
    "\n",
    "np.save(x_file, X)\n",
    "np.save(y_file, Y)\n",
    "\n",
    "x_file.close()\n",
    "y_file.close()"
   ]
  },
  {
   "cell_type": "code",
   "execution_count": null,
   "id": "59d90790",
   "metadata": {},
   "outputs": [],
   "source": []
  }
 ],
 "metadata": {
  "kernelspec": {
   "display_name": "MySkinTraining",
   "language": "python",
   "name": "myskintraining"
  },
  "language_info": {
   "codemirror_mode": {
    "name": "ipython",
    "version": 3
   },
   "file_extension": ".py",
   "mimetype": "text/x-python",
   "name": "python",
   "nbconvert_exporter": "python",
   "pygments_lexer": "ipython3",
   "version": "3.10.9"
  }
 },
 "nbformat": 4,
 "nbformat_minor": 5
}
