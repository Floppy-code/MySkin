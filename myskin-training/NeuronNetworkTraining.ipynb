{
 "cells": [
  {
   "cell_type": "code",
   "execution_count": null,
   "id": "fd0f559b",
   "metadata": {},
   "outputs": [],
   "source": [
    "import tensorflow as tf\n",
    "import numpy as np\n",
    "from sys import getsizeof"
   ]
  },
  {
   "cell_type": "code",
   "execution_count": null,
   "id": "2bfe45a6",
   "metadata": {},
   "outputs": [],
   "source": [
    "#===== CONSTANS =====\n",
    "FEATURE_FILE = './data/features.npy'\n",
    "LABEL_FILE = './data/labels.npy'\n",
    "MODEL_NAME = 'resnet50'\n",
    "PREPROCESSED_FEATURE_FILE = f'./data/{MODEL_NAME}_features.npy'\n",
    "PREPROCESSED_LABEL_FILE = f'./data/{MODEL_NAME}_labels.npy'"
   ]
  },
  {
   "cell_type": "code",
   "execution_count": null,
   "id": "e08e593b",
   "metadata": {},
   "outputs": [],
   "source": [
    "X = np.load(open(FEATURE_FILE, 'rb'))\n",
    "Y = np.load(open(LABEL_FILE, 'rb'))"
   ]
  },
  {
   "cell_type": "code",
   "execution_count": null,
   "id": "d3d66f97",
   "metadata": {},
   "outputs": [],
   "source": [
    "from tensorflow.keras.applications.resnet50 import preprocess_input\n",
    "\n",
    "X = preprocess_input(X)\n",
    "Y = Y.astype('float32').reshape((-1,1))\n",
    "\n",
    "x_file = open(PREPROCESSED_FEATURE_FILE, 'wb')\n",
    "y_file = open(PREPROCESSED_LABEL_FILE, 'wb')\n",
    "\n",
    "np.save(x_file, X)\n",
    "np.save(y_file, Y)\n",
    "\n",
    "x_file.close()\n",
    "y_file.close()"
   ]
  },
  {
   "cell_type": "code",
   "execution_count": 3,
   "id": "bd6188f2",
   "metadata": {},
   "outputs": [],
   "source": [
    "X = np.load(open(PREPROCESSED_FEATURE_FILE, 'rb'))\n",
    "Y = np.load(open(PREPROCESSED_LABEL_FILE, 'rb'))"
   ]
  },
  {
   "cell_type": "code",
   "execution_count": 4,
   "id": "32eff71a",
   "metadata": {},
   "outputs": [],
   "source": [
    "#Create class_weights for unbalanced dataset classes\n",
    "from sklearn.utils import class_weight\n",
    "\n",
    "class_weights = class_weight.compute_class_weight(class_weight = \"balanced\",\n",
    "                                                  classes = np.unique(np.squeeze(Y)),\n",
    "                                                  y = np.squeeze(Y))\n",
    "class_weights = dict(enumerate(class_weights))"
   ]
  },
  {
   "cell_type": "code",
   "execution_count": 5,
   "id": "d8d85ffb",
   "metadata": {},
   "outputs": [],
   "source": [
    "#Split into 5 folds evenly\n",
    "from sklearn.model_selection import StratifiedKFold\n",
    "\n",
    "skf = StratifiedKFold(n_splits=5, random_state=None, shuffle=False)"
   ]
  },
  {
   "cell_type": "code",
   "execution_count": 6,
   "id": "bc4f5de6",
   "metadata": {},
   "outputs": [
    {
     "data": {
      "text/plain": [
       "{0: 0.7518567059851463,\n",
       " 1: 0.9566425792106726,\n",
       " 2: 0.8948394644481996,\n",
       " 3: 2.137888198757764,\n",
       " 4: 0.8835836221280965,\n",
       " 5: 0.7518567059851463,\n",
       " 6: 1.7313883299798793}"
      ]
     },
     "execution_count": 6,
     "metadata": {},
     "output_type": "execute_result"
    }
   ],
   "source": [
    "#TESTING\n",
    "class_weights"
   ]
  },
  {
   "cell_type": "code",
   "execution_count": 7,
   "id": "f08803ba",
   "metadata": {},
   "outputs": [
    {
     "name": "stdout",
     "output_type": "stream",
     "text": [
      "===== CURRENT FOLD: 0 =====\n",
      "Model: \"sequential\"\n",
      "_________________________________________________________________\n",
      " Layer (type)                Output Shape              Param #   \n",
      "=================================================================\n",
      " resnet50 (Functional)       (None, 7, 7, 2048)        23587712  \n",
      "                                                                 \n",
      " flatten (Flatten)           (None, 100352)            0         \n",
      "                                                                 \n",
      " dense (Dense)               (None, 7)                 702471    \n",
      "                                                                 \n",
      "=================================================================\n",
      "Total params: 24,290,183\n",
      "Trainable params: 24,237,063\n",
      "Non-trainable params: 53,120\n",
      "_________________________________________________________________\n",
      "2203/2203 [==============================] - 140s 58ms/step - loss: 2.1533 - accuracy: 0.3431 - val_loss: 2.6165 - val_accuracy: 0.0803\n",
      "===== CURRENT FOLD: 1 =====\n",
      "Model: \"sequential\"\n",
      "_________________________________________________________________\n",
      " Layer (type)                Output Shape              Param #   \n",
      "=================================================================\n",
      " resnet50 (Functional)       (None, 7, 7, 2048)        23587712  \n",
      "                                                                 \n",
      " flatten (Flatten)           (None, 100352)            0         \n",
      "                                                                 \n",
      " dense (Dense)               (None, 7)                 702471    \n",
      "                                                                 \n",
      "=================================================================\n",
      "Total params: 24,290,183\n",
      "Trainable params: 24,237,063\n",
      "Non-trainable params: 53,120\n",
      "_________________________________________________________________\n"
     ]
    },
    {
     "ename": "MemoryError",
     "evalue": "Unable to allocate 4.94 GiB for an array with shape (8811, 224, 224, 3) and data type float32",
     "output_type": "error",
     "traceback": [
      "\u001b[1;31m---------------------------------------------------------------------------\u001b[0m",
      "\u001b[1;31mMemoryError\u001b[0m                               Traceback (most recent call last)",
      "Cell \u001b[1;32mIn[7], line 28\u001b[0m\n\u001b[0;32m     22\u001b[0m model\u001b[38;5;241m.\u001b[39mcompile(optimizer\u001b[38;5;241m=\u001b[39mAdam(learning_rate\u001b[38;5;241m=\u001b[39m\u001b[38;5;241m1e-3\u001b[39m),\n\u001b[0;32m     23\u001b[0m               loss\u001b[38;5;241m=\u001b[39mSparseCategoricalCrossentropy(),\n\u001b[0;32m     24\u001b[0m               metrics\u001b[38;5;241m=\u001b[39m[\u001b[38;5;124m'\u001b[39m\u001b[38;5;124maccuracy\u001b[39m\u001b[38;5;124m'\u001b[39m])\n\u001b[0;32m     26\u001b[0m model\u001b[38;5;241m.\u001b[39msummary()\n\u001b[1;32m---> 28\u001b[0m \u001b[43mmodel\u001b[49m\u001b[38;5;241;43m.\u001b[39;49m\u001b[43mfit\u001b[49m\u001b[43m(\u001b[49m\u001b[43mX\u001b[49m\u001b[43m[\u001b[49m\u001b[43mtrain_index\u001b[49m\u001b[43m]\u001b[49m\u001b[43m,\u001b[49m\u001b[43m \u001b[49m\u001b[43mY\u001b[49m\u001b[43m[\u001b[49m\u001b[43mtrain_index\u001b[49m\u001b[43m]\u001b[49m\u001b[43m,\u001b[49m\n\u001b[0;32m     29\u001b[0m \u001b[43m          \u001b[49m\u001b[43mclass_weight\u001b[49m\u001b[38;5;241;43m=\u001b[39;49m\u001b[43mclass_weights\u001b[49m\u001b[43m,\u001b[49m\n\u001b[0;32m     30\u001b[0m \u001b[43m          \u001b[49m\u001b[43mepochs\u001b[49m\u001b[38;5;241;43m=\u001b[39;49m\u001b[38;5;241;43m1\u001b[39;49m\u001b[43m,\u001b[49m\u001b[43m \u001b[49m\n\u001b[0;32m     31\u001b[0m \u001b[43m          \u001b[49m\u001b[43mbatch_size\u001b[49m\u001b[38;5;241;43m=\u001b[39;49m\u001b[38;5;241;43m4\u001b[39;49m\u001b[43m,\u001b[49m\u001b[43m \u001b[49m\n\u001b[0;32m     32\u001b[0m \u001b[43m          \u001b[49m\u001b[43mvalidation_split\u001b[49m\u001b[38;5;241;43m=\u001b[39;49m\u001b[38;5;241;43m0.2\u001b[39;49m\u001b[43m)\u001b[49m\n\u001b[0;32m     34\u001b[0m tf\u001b[38;5;241m.\u001b[39mkeras\u001b[38;5;241m.\u001b[39mbackend\u001b[38;5;241m.\u001b[39mclear_session()\n\u001b[0;32m     35\u001b[0m \u001b[38;5;28;01mdel\u001b[39;00m model\n",
      "File \u001b[1;32m~\\source\\enviroments\\MySkinTraining\\lib\\site-packages\\keras\\utils\\traceback_utils.py:70\u001b[0m, in \u001b[0;36mfilter_traceback.<locals>.error_handler\u001b[1;34m(*args, **kwargs)\u001b[0m\n\u001b[0;32m     67\u001b[0m     filtered_tb \u001b[38;5;241m=\u001b[39m _process_traceback_frames(e\u001b[38;5;241m.\u001b[39m__traceback__)\n\u001b[0;32m     68\u001b[0m     \u001b[38;5;66;03m# To get the full stack trace, call:\u001b[39;00m\n\u001b[0;32m     69\u001b[0m     \u001b[38;5;66;03m# `tf.debugging.disable_traceback_filtering()`\u001b[39;00m\n\u001b[1;32m---> 70\u001b[0m     \u001b[38;5;28;01mraise\u001b[39;00m e\u001b[38;5;241m.\u001b[39mwith_traceback(filtered_tb) \u001b[38;5;28;01mfrom\u001b[39;00m \u001b[38;5;28mNone\u001b[39m\n\u001b[0;32m     71\u001b[0m \u001b[38;5;28;01mfinally\u001b[39;00m:\n\u001b[0;32m     72\u001b[0m     \u001b[38;5;28;01mdel\u001b[39;00m filtered_tb\n",
      "File \u001b[1;32m~\\source\\enviroments\\MySkinTraining\\lib\\site-packages\\tensorflow\\python\\framework\\constant_op.py:102\u001b[0m, in \u001b[0;36mconvert_to_eager_tensor\u001b[1;34m(value, ctx, dtype)\u001b[0m\n\u001b[0;32m    100\u001b[0m     dtype \u001b[38;5;241m=\u001b[39m dtypes\u001b[38;5;241m.\u001b[39mas_dtype(dtype)\u001b[38;5;241m.\u001b[39mas_datatype_enum\n\u001b[0;32m    101\u001b[0m ctx\u001b[38;5;241m.\u001b[39mensure_initialized()\n\u001b[1;32m--> 102\u001b[0m \u001b[38;5;28;01mreturn\u001b[39;00m \u001b[43mops\u001b[49m\u001b[38;5;241;43m.\u001b[39;49m\u001b[43mEagerTensor\u001b[49m\u001b[43m(\u001b[49m\u001b[43mvalue\u001b[49m\u001b[43m,\u001b[49m\u001b[43m \u001b[49m\u001b[43mctx\u001b[49m\u001b[38;5;241;43m.\u001b[39;49m\u001b[43mdevice_name\u001b[49m\u001b[43m,\u001b[49m\u001b[43m \u001b[49m\u001b[43mdtype\u001b[49m\u001b[43m)\u001b[49m\n",
      "\u001b[1;31mMemoryError\u001b[0m: Unable to allocate 4.94 GiB for an array with shape (8811, 224, 224, 3) and data type float32"
     ]
    }
   ],
   "source": [
    "from tensorflow.keras.applications import ResNet50 \n",
    "from tensorflow.keras.layers import Input, Dense, Flatten\n",
    "from tensorflow.keras.models import Sequential\n",
    "from tensorflow.keras.optimizers import Adam\n",
    "from tensorflow.keras.losses import SparseCategoricalCrossentropy \n",
    "\n",
    "#tf.compat.v1.disable_eager_execution()\n",
    "\n",
    "for i, (train_index, test_index) in enumerate(skf.split(X, Y)):\n",
    "    print(f\"===== CURRENT FOLD: {i} =====\")\n",
    "    \n",
    "    #PROOF OF CONCEPT (DELETE LATER)\n",
    "    model = Sequential()\n",
    "    resnet = ResNet50(include_top=False, \n",
    "                      input_shape=(224, 224, 3), \n",
    "                      weights='imagenet')\n",
    "\n",
    "    model.add(resnet)\n",
    "    model.add(Flatten())\n",
    "    model.add(Dense(7, activation='softmax'))\n",
    "\n",
    "    model.compile(optimizer=Adam(learning_rate=1e-3),\n",
    "                  loss=SparseCategoricalCrossentropy(),\n",
    "                  metrics=['accuracy'])\n",
    "\n",
    "    model.summary()\n",
    "\n",
    "    model.fit(X[train_index], Y[train_index],\n",
    "              class_weight=class_weights,\n",
    "              epochs=1, \n",
    "              batch_size=4, \n",
    "              validation_split=0.2)\n",
    "    \n",
    "    tf.keras.backend.clear_session()\n",
    "    del model"
   ]
  },
  {
   "cell_type": "code",
   "execution_count": null,
   "id": "a25bbe2c",
   "metadata": {},
   "outputs": [],
   "source": [
    "tf.keras.backend.clear_session()\n",
    "del model"
   ]
  },
  {
   "cell_type": "code",
   "execution_count": null,
   "id": "00b4fc5e",
   "metadata": {},
   "outputs": [],
   "source": []
  }
 ],
 "metadata": {
  "kernelspec": {
   "display_name": "MySkinTraining",
   "language": "python",
   "name": "myskintraining"
  },
  "language_info": {
   "codemirror_mode": {
    "name": "ipython",
    "version": 3
   },
   "file_extension": ".py",
   "mimetype": "text/x-python",
   "name": "python",
   "nbconvert_exporter": "python",
   "pygments_lexer": "ipython3",
   "version": "3.10.9"
  }
 },
 "nbformat": 4,
 "nbformat_minor": 5
}
